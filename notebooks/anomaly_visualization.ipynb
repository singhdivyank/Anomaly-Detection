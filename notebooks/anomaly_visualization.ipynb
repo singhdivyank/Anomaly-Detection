{
 "cells": [
  {
   "cell_type": "markdown",
   "metadata": {},
   "source": [
    "# Anomaly Visualization Notebook\n",
    "\n",
    "This notebook visualizes abnormal responses in energy consumption data. It highlights anomalies over time and, if available, shows clustering results to further inspect abnormal household behavior."
   ]
  },
  {
   "cell_type": "code",
   "execution_count": 1,
   "metadata": {},
   "outputs": [],
   "source": [
    "import pandas as pd\n",
    "import numpy as np\n",
    "import matplotlib.pyplot as plt\n",
    "%matplotlib inline"
   ]
  },
  {
   "cell_type": "code",
   "execution_count": 2,
   "metadata": {},
   "outputs": [],
   "source": [
    "# Load the feature-engineered data\n",
    "data_path = '../data/processed/smart_meter_data_features.csv'\n",
    "data = pd.read_csv(data_path)\n",
    "print('Data loaded successfully')\n",
    "data.head()"
   ]
  },
  {
   "cell_type": "code",
   "execution_count": 3,
   "metadata": {},
   "outputs": [],
   "source": [
    "# Visualize anomalies over time if 'anomaly' and 'timestamp' columns exist\n",
    "if 'anomaly' in data.columns and 'timestamp' in data.columns:\n",
    "    # Convert timestamp column to datetime\n",
    "    data['timestamp'] = pd.to_datetime(data['timestamp'])\n",
    "    data.sort_values('timestamp', inplace=True)\n",
    "    \n",
    "    plt.figure(figsize=(14,7))\n",
    "    \n",
    "    # Plot overall energy consumption\n",
    "    plt.plot(data['timestamp'], data['energy_consumption'], color='lightgray', label='Energy Consumption')\n",
    "    \n",
    "    # Highlight anomalies\n",
    "    anomalies = data[data['anomaly'] == 1]\n",
    "    plt.scatter(anomalies['timestamp'], anomalies['energy_consumption'], color='red', label='Anomaly', marker='o')\n",
    "    \n",
    "    plt.xlabel('Timestamp')\n",
    "    plt.ylabel('Energy Consumption')\n",
    "    plt.title('Energy Consumption Over Time with Anomalies Highlighted')\n",
    "    plt.legend()\n",
    "    plt.show()\n",
    "else:\n",
    "    print(\"Columns 'anomaly' and/or 'timestamp' not found in the dataset.\")"
   ]
  },
  {
   "cell_type": "code",
   "execution_count": 4,
   "metadata": {},
   "outputs": [],
   "source": [
    "# If clustering has been applied, visualize clusters\n",
    "if 'cluster' in data.columns and 'energy_consumption' in data.columns and 'hour' in data.columns:\n",
    "    plt.figure(figsize=(10,6))\n",
    "    plt.scatter(data['hour'], data['energy_consumption'], c=data['cluster'], cmap='viridis', alpha=0.7)\n",
    "    plt.xlabel('Hour of Day')\n",
    "    plt.ylabel('Energy Consumption')\n",
    "    plt.title('Energy Consumption vs. Hour Colored by Cluster')\n",
    "    plt.colorbar(label='Cluster')\n",
    "    plt.show()\n",
    "else:\n",
    "    print(\"Columns 'cluster', 'hour', or 'energy_consumption' not found for cluster visualization.\")"
   ]
  },
  {
   "cell_type": "markdown",
   "metadata": {},
   "source": [
    "## Conclusion\n",
    "\n",
    "This notebook provides visual insights into the energy consumption patterns, highlighting anomalies that may indicate abnormal responses to dynamic pricing. Adjust the visualizations as needed for your analysis."
   ]
  }
 ],
 "metadata": {
  "kernelspec": {
   "display_name": "Python 3",
   "language": "python",
   "name": "python3"
  },
  "language_info": {
   "file_extension": ".py",
   "mimetype": "text/x-python",
   "name": "python",
   "version": "3.11.11"
  }
 },
 "nbformat": 4,
 "nbformat_minor": 5
}
