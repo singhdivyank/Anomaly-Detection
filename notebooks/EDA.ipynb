{
 "cells": [
  {
   "cell_type": "markdown",
   "metadata": {},
   "source": [
    "# Exploratory Data Analysis (EDA)\n",
    "\n",
    "In this notebook, we perform exploratory data analysis on the preprocessed smart meter data.\n",
    "We will review summary statistics and visualize the distribution and trends of key features."
   ]
  },
  {
   "cell_type": "code",
   "execution_count": 1,
   "metadata": {},
   "outputs": [],
   "source": [
    "import pandas as pd\n",
    "import numpy as np\n",
    "import matplotlib.pyplot as plt\n",
    "%matplotlib inline"
   ]
  },
  {
   "cell_type": "code",
   "execution_count": 2,
   "metadata": {},
   "outputs": [],
   "source": [
    "# Load the processed data\n",
    "data_path = '../data/processed/smart_meter_data_processed.csv'\n",
    "data = pd.read_csv(data_path)\n",
    "data.head()"
   ]
  },
  {
   "cell_type": "code",
   "execution_count": 3,
   "metadata": {},
   "outputs": [],
   "source": [
    "# Display summary statistics\n",
    "data.describe()"
   ]
  },
  {
   "cell_type": "code",
   "execution_count": 4,
   "metadata": {},
   "outputs": [],
   "source": [
    "# Plot the distribution of energy consumption if the column exists\n",
    "if 'energy_consumption' in data.columns:\n",
    "    plt.figure(figsize=(10, 6))\n",
    "    plt.hist(data['energy_consumption'], bins=30, alpha=0.7)\n",
    "    plt.title('Distribution of Energy Consumption')\n",
    "    plt.xlabel('Energy Consumption')\n",
    "    plt.ylabel('Frequency')\n",
    "    plt.show()\n",
    "else:\n",
    "    print('Column energy_consumption not found in the dataset.')"
   ]
  },
  {
   "cell_type": "code",
   "execution_count": 5,
   "metadata": {},
   "outputs": [],
   "source": [
    "# Time series plot assuming columns 'timestamp' and 'energy_consumption' exist\n",
    "if 'timestamp' in data.columns and 'energy_consumption' in data.columns:\n",
    "    data['timestamp'] = pd.to_datetime(data['timestamp'])\n",
    "    data.sort_values('timestamp', inplace=True)\n",
    "    plt.figure(figsize=(14, 7))\n",
    "    plt.plot(data['timestamp'], data['energy_consumption'], label='Energy Consumption')\n",
    "    plt.xlabel('Time')\n",
    "    plt.ylabel('Energy Consumption')\n",
    "    plt.title('Time Series of Energy Consumption')\n",
    "    plt.legend()\n",
    "    plt.show()\n",
    "else:\n",
    "    print('Timestamp or energy_consumption column not found in the dataset.')"
   ]
  }
 ],
 "metadata": {
  "kernelspec": {
   "display_name": "Python 3",
   "language": "python",
   "name": "python3"
  },
  "language_info": {
   "file_extension": ".py",
   "mimetype": "text/x-python",
   "name": "python",
   "version": "3.11.11"
  }
 },
 "nbformat": 4,
 "nbformat_minor": 5
}
