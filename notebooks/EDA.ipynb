{
 "cells": [
  {
   "cell_type": "markdown",
   "id": "b4212449",
   "metadata": {},
   "source": [
    "# Exploratory Data Analysis (EDA) Notebook\n",
    "\n",
    "This notebook performs exploratory data analysis on the processed smart meter data that includes anomaly labels from the Isolation Forest method. It shows basic data information, visualizations of energy consumption, anomaly distributions, and an optional time-series visualization."
   ]
  },
  {
   "cell_type": "code",
   "execution_count": null,
   "id": "505e32d3",
   "metadata": {},
   "outputs": [],
   "source": [
    "import pandas as pd\n",
    "import numpy as np\n",
    "import matplotlib.pyplot as plt\n",
    "import seaborn as sns\n",
    "\n",
    "%matplotlib inline"
   ]
  },
  {
   "cell_type": "code",
   "execution_count": null,
   "id": "8844947a",
   "metadata": {},
   "outputs": [],
   "source": [
    "# Load the data with anomaly labels from Isolation Forest\n",
    "data_path = 'data/processed/smart_meter_data_anomalies_if.csv'\n",
    "try:\n",
    "    data = pd.read_csv(data_path)\n",
    "    print(f\"Data loaded successfully from {data_path}\")\n",
    "except FileNotFoundError:\n",
    "    print(f\"Error: Data file not found at {data_path}. Please ensure the Isolation Forest script ran successfully.\")\n",
    "    exit()"
   ]
  },
  {
   "cell_type": "code",
   "execution_count": null,
   "id": "21a751ec",
   "metadata": {},
   "outputs": [],
   "source": [
    "print(\"\\nData Head:\")\n",
    "print(data.head())\n",
    "\n",
    "print(\"\\nData Description:\")\n",
    "print(data.describe())"
   ]
  },
  {
   "cell_type": "markdown",
   "id": "475789b6",
   "metadata": {},
   "source": [
    "## Basic Visualization: Energy Consumption Distribution"
   ]
  },
  {
   "cell_type": "code",
   "execution_count": null,
   "id": "e6fa816c",
   "metadata": {},
   "outputs": [],
   "source": [
    "# Plot the distribution of the main feature (Energy Consumption)\n",
    "if 'KWH/hh (per half hour)' in data.columns:\n",
    "    plt.figure(figsize=(10, 6))\n",
    "    sns.histplot(data['KWH/hh (per half hour)'], bins=50, kde=True)\n",
    "    plt.title('Distribution of Energy Consumption (kWh per half hour)')\n",
    "    plt.xlabel('Energy Consumption')\n",
    "    plt.ylabel('Frequency')\n",
    "    plt.show()\n",
    "else:\n",
    "    print(\"Column 'KWH/hh (per half hour)' not found.\")"
   ]
  },
  {
   "cell_type": "markdown",
   "id": "2ae44d28",
   "metadata": {},
   "source": [
    "## Anomaly Visualization"
   ]
  },
  {
   "cell_type": "code",
   "execution_count": null,
   "id": "3f3b7915",
   "metadata": {},
   "outputs": [],
   "source": [
    "if 'anomaly' in data.columns:\n",
    "    # Plot the distribution of anomaly labels\n",
    "    plt.figure(figsize=(6, 4))\n",
    "    sns.countplot(x='anomaly', data=data)\n",
    "    plt.title('Distribution of Anomaly Labels (0=Normal, 1=Anomaly)')\n",
    "    plt.xlabel('Anomaly Label')\n",
    "    plt.ylabel('Count')\n",
    "    \n",
    "    # Calculate and print anomaly percentage\n",
    "    anomaly_perc = data['anomaly'].mean() * 100\n",
    "    print(f\"\\nPercentage of anomalies in the dataset: {anomaly_perc:.2f}%\")\n",
    "    plt.show()\n",
    "\n",
    "    # Visualize energy consumption distribution for normal vs anomaly\n",
    "    if 'KWH/hh (per half hour)' in data.columns:\n",
    "        plt.figure(figsize=(10, 6))\n",
    "        sns.histplot(data=data, x='KWH/hh (per half hour)', hue='anomaly', bins=50, kde=True)\n",
    "        plt.title('Energy Consumption Distribution by Anomaly Label')\n",
    "        plt.xlabel('Energy Consumption (kWh per half hour)')\n",
    "        plt.ylabel('Frequency')\n",
    "        plt.show()\n",
    "else:\n",
    "    print(\"Column 'anomaly' not found. Cannot visualize anomaly distributions.\")"
   ]
  },
  {
   "cell_type": "markdown",
   "id": "e02ac0d3",
   "metadata": {},
   "source": [
    "## Optional: Time Series Visualization of Anomaly Rates\n",
    "\n",
    "This section aggregates anomaly labels by day and plots the daily anomaly rate over time. It is best used if your dataset contains a `DateTime` column."
   ]
  },
  {
   "cell_type": "code",
   "execution_count": null,
   "id": "78d5ea33",
   "metadata": {},
   "outputs": [],
   "source": [
    "if 'DateTime' in data.columns and 'anomaly' in data.columns:\n",
    "    data['DateTime'] = pd.to_datetime(data['DateTime'])\n",
    "    daily_anomaly_rate = data.groupby(data['DateTime'].dt.date)['anomaly'].mean()\n",
    "\n",
    "    plt.figure(figsize=(14, 7))\n",
    "    plt.plot(daily_anomaly_rate.index, daily_anomaly_rate.values, label='Daily Anomaly Rate')\n",
    "    plt.xlabel('Date')\n",
    "    plt.ylabel('Anomaly Rate (Fraction)')\n",
    "    plt.title('Daily Anomaly Rate Over Time')\n",
    "    plt.legend()\n",
    "    plt.ylim(0, 1)  # Ensure y-axis is between 0 and 1\n",
    "    plt.show()\n",
    "else:\n",
    "    print(\"Either 'DateTime' or 'anomaly' column not found. Skipping time series visualization.\")"
   ]
  },
  {
   "cell_type": "code",
   "execution_count": null,
   "id": "12273e37",
   "metadata": {},
   "outputs": [],
   "source": [
    "print(\"\\nEDA script finished.\")"
   ]
  }
 ],
 "metadata": {
  "kernelspec": {
   "display_name": "Python 3",
   "language": "python",
   "name": "python3"
  },
  "language_info": {
   "file_extension": ".py",
   "mimetype": "text/x-python",
   "name": "python",
   "version": "3.11.11"
  }
 },
 "nbformat": 4,
 "nbformat_minor": 5
}
